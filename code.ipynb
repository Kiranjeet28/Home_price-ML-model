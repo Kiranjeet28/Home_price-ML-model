{
 "cells": [
  {
   "cell_type": "code",
   "execution_count": 1,
   "id": "92d7fcdf",
   "metadata": {},
   "outputs": [
    {
     "name": "stdout",
     "output_type": "stream",
     "text": [
      "\n",
      "Usage:   \n",
      "  pip install [options] <requirement specifier> [package-index-options] ...\n",
      "  pip install [options] -r <requirements file> [package-index-options] ...\n",
      "  pip install [options] [-e] <vcs project url> ...\n",
      "  pip install [options] [-e] <local project path> ...\n",
      "  pip install [options] <archive url/path> ...\n",
      "\n",
      "no such option: --updgrade\n"
     ]
    }
   ],
   "source": [
    "!pip install numpy pandas matplotlib seaborn scikit-learn --quiet\n",
    "!pip install scikit-learn --updgrade --quiet\n",
    "# !pip install opendatasets --quiet\n",
    "!pip install plotly --quiet\n",
    "# import opendatasets as od\n",
    "import pandas as pd\n",
    "import numpy as np\n",
    "# dataset_url = 'https://www.kaggle.com/competitions/house-prices-advanced-regression-techniques'\n",
    "# od.download(dataset_url)"
   ]
  },
  {
   "cell_type": "markdown",
   "id": "74c3af93",
   "metadata": {},
   "source": [
    "Shape of data\n"
   ]
  },
  {
   "cell_type": "code",
   "execution_count": 2,
   "id": "3b102dc6",
   "metadata": {},
   "outputs": [
    {
     "data": {
      "text/plain": [
       "(1460, 81)"
      ]
     },
     "execution_count": 2,
     "metadata": {},
     "output_type": "execute_result"
    }
   ],
   "source": [
    "data_dir = './data'\n",
    "data_df = pd.read_csv(f'{data_dir}/train.csv', nrows=100000)\n",
    "data_df.shape"
   ]
  },
  {
   "cell_type": "code",
   "execution_count": 3,
   "id": "83e98539",
   "metadata": {},
   "outputs": [],
   "source": [
    "import plotly.express as px\n",
    "\n",
    "# compute correlations with SalePrice\n",
    "corr_series = data_df.corr(numeric_only=True)['SalePrice'].drop('SalePrice')\n",
    "corr_df = corr_series.reset_index().rename(columns={'index':'feature', 'SalePrice':'corr'})\n",
    "\n",
    "# sort by absolute correlation so strongest dependencies appear first\n",
    "corr_df = corr_df.sort_values('corr', key=lambda x: x.abs(), ascending=False)\n",
    "\n",
    "# bar chart (signed correlation, colored by sign/magnitude)\n",
    "fig = px.bar(\n",
    "    corr_df,\n",
    "    x='feature',\n",
    "    y='corr',\n",
    "    color='corr',\n",
    "    color_continuous_scale='RdBu',\n",
    "    title='Correlation of features with SalePrice',\n",
    "    labels={'corr':'corr_with_SalePrice', 'feature':'feature'}\n",
    ")\n",
    "fig.update_layout(yaxis=dict(range=[-1,1]), xaxis_title='Feature', yaxis_title='Correlation')\n",
    "fig.show(renderer=\"browser\")"
   ]
  },
  {
   "cell_type": "markdown",
   "id": "063677f0",
   "metadata": {},
   "source": [
    "//Remove Field are BsmtFinType2 , BsmtHalfBath,MiscVal,Id,LowQualFinSF,YrSold,MoSold,3SsnPorch"
   ]
  },
  {
   "cell_type": "code",
   "execution_count": 4,
   "id": "7ba8191f",
   "metadata": {},
   "outputs": [],
   "source": [
    "remove_cols = ['BsmtFinType2', 'BsmtHalfBath', 'MiscVal', 'Id', 'LowQualFinSF', 'YrSold', 'MoSold', '3SsnPorch']\n",
    "\n",
    "\n"
   ]
  },
  {
   "cell_type": "code",
   "execution_count": 5,
   "id": "1fabf7e8",
   "metadata": {},
   "outputs": [],
   "source": [
    "data_df = data_df.drop(remove_cols, axis=1)"
   ]
  },
  {
   "cell_type": "code",
   "execution_count": 6,
   "id": "c709fa2b",
   "metadata": {},
   "outputs": [],
   "source": [
    "# Show number of nulls per column\n",
    "def checkNullValues(df):\n",
    "    null_counts = df.isnull().sum().sort_values(ascending=False)\n",
    "    print(null_counts[null_counts > 0])\n"
   ]
  },
  {
   "cell_type": "markdown",
   "id": "f088d9b6",
   "metadata": {},
   "source": [
    "MasVnrType = None \n",
    "MasVnrArea,GarageYrBlt , LotFrontage = Numerical\n",
    "Electrical  drop it \n"
   ]
  },
  {
   "cell_type": "code",
   "execution_count": 7,
   "id": "9963ea4d",
   "metadata": {},
   "outputs": [],
   "source": [
    "def clean_missing_values(df):\n",
    "    # Drop 'Electrical'\n",
    "    if 'Electrical' in df.columns:\n",
    "        df.drop('Electrical', axis=1, inplace=True)\n",
    "    \n",
    "    # Fill MasVnrType with 'None'\n",
    "    if 'MasVnrType' in df.columns:\n",
    "        df['MasVnrType'].fillna('None', inplace=True)\n",
    "    \n",
    "    # Columns to exclude from filling (numerical columns)\n",
    "    exclude_cols = ['MasVnrArea', 'GarageYrBlt', 'LotFrontage', 'MasVnrType']\n",
    "    \n",
    "    # Fill other categorical nulls with 'NA'\n",
    "    for col in df.select_dtypes(include='object').columns:\n",
    "        if col not in exclude_cols:\n",
    "            df[col].fillna('NA', inplace=True)\n",
    "    \n",
    "    return df\n",
    "\n",
    "\n"
   ]
  },
  {
   "cell_type": "code",
   "execution_count": 8,
   "id": "6303db2e",
   "metadata": {},
   "outputs": [
    {
     "name": "stderr",
     "output_type": "stream",
     "text": [
      "/tmp/ipykernel_64829/2073745228.py:8: FutureWarning:\n",
      "\n",
      "A value is trying to be set on a copy of a DataFrame or Series through chained assignment using an inplace method.\n",
      "The behavior will change in pandas 3.0. This inplace method will never work because the intermediate object on which we are setting values always behaves as a copy.\n",
      "\n",
      "For example, when doing 'df[col].method(value, inplace=True)', try using 'df.method({col: value}, inplace=True)' or df[col] = df[col].method(value) instead, to perform the operation inplace on the original object.\n",
      "\n",
      "\n",
      "\n",
      "/tmp/ipykernel_64829/2073745228.py:16: FutureWarning:\n",
      "\n",
      "A value is trying to be set on a copy of a DataFrame or Series through chained assignment using an inplace method.\n",
      "The behavior will change in pandas 3.0. This inplace method will never work because the intermediate object on which we are setting values always behaves as a copy.\n",
      "\n",
      "For example, when doing 'df[col].method(value, inplace=True)', try using 'df.method({col: value}, inplace=True)' or df[col] = df[col].method(value) instead, to perform the operation inplace on the original object.\n",
      "\n",
      "\n",
      "\n"
     ]
    }
   ],
   "source": [
    "data_df = clean_missing_values(data_df)"
   ]
  },
  {
   "cell_type": "code",
   "execution_count": 9,
   "id": "bee4e2cd",
   "metadata": {},
   "outputs": [
    {
     "name": "stdout",
     "output_type": "stream",
     "text": [
      "Most common Garage Year Built: 2005.0\n"
     ]
    },
    {
     "name": "stderr",
     "output_type": "stream",
     "text": [
      "/tmp/ipykernel_64829/1016363599.py:19: FutureWarning:\n",
      "\n",
      "A value is trying to be set on a copy of a DataFrame or Series through chained assignment using an inplace method.\n",
      "The behavior will change in pandas 3.0. This inplace method will never work because the intermediate object on which we are setting values always behaves as a copy.\n",
      "\n",
      "For example, when doing 'df[col].method(value, inplace=True)', try using 'df.method({col: value}, inplace=True)' or df[col] = df[col].method(value) instead, to perform the operation inplace on the original object.\n",
      "\n",
      "\n",
      "\n"
     ]
    }
   ],
   "source": [
    "def most_Val(df, col_name):\n",
    "    \"\"\"\n",
    "    Returns the most common (mode) value of a numerical column.\n",
    "    \"\"\"\n",
    "    if col_name in df.columns:\n",
    "        # Drop nulls first\n",
    "        mode_value = df[col_name].mode(dropna=True)\n",
    "        if not mode_value.empty:\n",
    "            return mode_value[0]\n",
    "        else:\n",
    "            return None\n",
    "    else:\n",
    "        return None\n",
    "\n",
    "# Usage for GarageYrBlt\n",
    "common_year = most_Val(data_df, 'GarageYrBlt')\n",
    "print(\"Most common Garage Year Built:\", common_year)\n",
    "if common_year is not None:\n",
    "    data_df['GarageYrBlt'].fillna(common_year, inplace=True)\n"
   ]
  },
  {
   "cell_type": "code",
   "execution_count": 10,
   "id": "12aeefdf",
   "metadata": {},
   "outputs": [
    {
     "name": "stdout",
     "output_type": "stream",
     "text": [
      "LotFrontage    259\n",
      "MasVnrArea       8\n",
      "dtype: int64\n"
     ]
    }
   ],
   "source": [
    "checkNullValues(data_df)\n"
   ]
  },
  {
   "cell_type": "code",
   "execution_count": 11,
   "id": "90c9d47b",
   "metadata": {},
   "outputs": [
    {
     "name": "stderr",
     "output_type": "stream",
     "text": [
      "/tmp/ipykernel_64829/3485532086.py:3: FutureWarning:\n",
      "\n",
      "A value is trying to be set on a copy of a DataFrame or Series through chained assignment using an inplace method.\n",
      "The behavior will change in pandas 3.0. This inplace method will never work because the intermediate object on which we are setting values always behaves as a copy.\n",
      "\n",
      "For example, when doing 'df[col].method(value, inplace=True)', try using 'df.method({col: value}, inplace=True)' or df[col] = df[col].method(value) instead, to perform the operation inplace on the original object.\n",
      "\n",
      "\n",
      "\n"
     ]
    }
   ],
   "source": [
    "area = most_Val(data_df, 'MasVnrArea')\n",
    "area\n",
    "data_df['MasVnrArea'].fillna(area, inplace=True)"
   ]
  },
  {
   "cell_type": "code",
   "execution_count": 12,
   "id": "8d66ab04",
   "metadata": {},
   "outputs": [
    {
     "name": "stderr",
     "output_type": "stream",
     "text": [
      "/tmp/ipykernel_64829/2632795815.py:3: FutureWarning:\n",
      "\n",
      "A value is trying to be set on a copy of a DataFrame or Series through chained assignment using an inplace method.\n",
      "The behavior will change in pandas 3.0. This inplace method will never work because the intermediate object on which we are setting values always behaves as a copy.\n",
      "\n",
      "For example, when doing 'df[col].method(value, inplace=True)', try using 'df.method({col: value}, inplace=True)' or df[col] = df[col].method(value) instead, to perform the operation inplace on the original object.\n",
      "\n",
      "\n",
      "\n"
     ]
    }
   ],
   "source": [
    "area = most_Val(data_df, 'LotFrontage')\n",
    "area\n",
    "data_df['LotFrontage'].fillna(area, inplace=True)"
   ]
  },
  {
   "cell_type": "markdown",
   "id": "45350dfe",
   "metadata": {},
   "source": [
    "input & catogrical cols"
   ]
  },
  {
   "cell_type": "code",
   "execution_count": 13,
   "id": "faa0d511",
   "metadata": {},
   "outputs": [],
   "source": [
    "def Input_Categorical_Cols(df):\n",
    "    input_col = [ col for col in df.columns if col != 'SalePrice' ]\n",
    "    output_col = 'SalePrice'\n",
    "\n",
    "    numerical_cols = ['LotFrontage','LotArea','YearBuilt','YearRemodAdd','MasVnrArea','BsmtFinSF1','BsmtFinSF2','BsmtUnfSF','TotalBsmtSF','1stFlrSF','2ndFlrSF','LowQualFinSF','GrLivArea','BsmtFullBath','BsmtHalfBath','FullBath','HalfBath','Bedroom','Kitchen','TotRmsAbvGrd','Fireplaces','GarageYrBlt','GarageCars','GarageArea','WoodDeckSF','OpenPorchSF','EnclosedPorch','3SsnPorch','ScreenPorch','PoolArea','MiscVal',]\n",
    "    numerical_cols = [col for col in numerical_cols if col not in remove_cols]\n",
    "    categorical_cols = [col for col in input_col if col not in numerical_cols]\n",
    "    return input_col, output_col, numerical_cols, categorical_cols"
   ]
  },
  {
   "cell_type": "code",
   "execution_count": 14,
   "id": "4268d4f4",
   "metadata": {},
   "outputs": [],
   "source": [
    "input_col, output_col, numerical_cols, categorical_cols = Input_Categorical_Cols(data_df);"
   ]
  }
 ],
 "metadata": {
  "kernelspec": {
   "display_name": ".venv",
   "language": "python",
   "name": "python3"
  },
  "language_info": {
   "codemirror_mode": {
    "name": "ipython",
    "version": 3
   },
   "file_extension": ".py",
   "mimetype": "text/x-python",
   "name": "python",
   "nbconvert_exporter": "python",
   "pygments_lexer": "ipython3",
   "version": "3.12.3"
  }
 },
 "nbformat": 4,
 "nbformat_minor": 5
}
